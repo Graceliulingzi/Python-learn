{
 "cells": [
  {
   "cell_type": "markdown",
   "metadata": {},
   "source": [
    "## numpy\n",
    "shape\n",
    "size\n",
    "ndim"
   ]
  },
  {
   "cell_type": "code",
   "execution_count": 3,
   "metadata": {},
   "outputs": [
    {
     "name": "stdout",
     "output_type": "stream",
     "text": [
      "[[1 2 3]\n",
      " [2 3 4]]\n",
      "number of dim: 2\n",
      "shape: (2, 3)\n",
      "size: 6\n"
     ]
    }
   ],
   "source": [
    "import numpy as np\n",
    "#列表转化成矩阵\n",
    "array=np.array([[1,2,3],\n",
    "               [2,3,4]])\n",
    "print(array)\n",
    "print('number of dim:',array.ndim)\n",
    "print('shape:',array.shape)\n",
    "print('size:',array.size)"
   ]
  },
  {
   "cell_type": "markdown",
   "metadata": {},
   "source": [
    "## numpy 中创建矩阵\n",
    "np.array()    \n",
    "np.arange()   \n",
    "np.zeros()    \n",
    "np.ones()     \n",
    "np.empty()     \n",
    "np.linespace()    \n",
    "dtype     \n",
    "np.random.random()  \n",
    "矩阵array数字之间没有逗号，而列表有逗号"
   ]
  },
  {
   "cell_type": "code",
   "execution_count": 24,
   "metadata": {},
   "outputs": [
    {
     "name": "stdout",
     "output_type": "stream",
     "text": [
      "float64\n",
      "[[1 2 3]\n",
      " [2 3 4]]\n",
      "[[0 0 0 0]\n",
      " [0 0 0 0]\n",
      " [0 0 0 0]]\n",
      "[[1 1 1 1]\n",
      " [1 1 1 1]\n",
      " [1 1 1 1]]\n",
      "[[1. 1. 1. 1.]\n",
      " [1. 1. 1. 1.]\n",
      " [1. 1. 1. 1.]]\n",
      "[10 12 14 16 18]\n",
      "[ 0  1  2  3  4  5  6  7  8  9 10 11]\n",
      "number of dim: 1\n",
      "shape: (12,)\n",
      "size: 12\n",
      "[[ 0  1  2  3]\n",
      " [ 4  5  6  7]\n",
      " [ 8  9 10 11]]\n",
      "[ 1.          1.47368421  1.94736842  2.42105263  2.89473684  3.36842105\n",
      "  3.84210526  4.31578947  4.78947368  5.26315789  5.73684211  6.21052632\n",
      "  6.68421053  7.15789474  7.63157895  8.10526316  8.57894737  9.05263158\n",
      "  9.52631579 10.        ]\n",
      "[[ 1.          1.47368421  1.94736842  2.42105263  2.89473684]\n",
      " [ 3.36842105  3.84210526  4.31578947  4.78947368  5.26315789]\n",
      " [ 5.73684211  6.21052632  6.68421053  7.15789474  7.63157895]\n",
      " [ 8.10526316  8.57894737  9.05263158  9.52631579 10.        ]]\n"
     ]
    }
   ],
   "source": [
    "import numpy as np\n",
    "#array数字之间没有逗号，列表有逗号\n",
    "#一维矩阵\n",
    "a=np.array([1,34,5],dtype=float) #int是32 float是64\n",
    "print(a.dtype)\n",
    "\n",
    "#多维矩阵\n",
    "b=np.array([ [1,2,3],\n",
    "              [2,3,4]])\n",
    "print(b)\n",
    "\n",
    "#直接生成矩阵\n",
    "#(行数，列数)注意一定要用单独再一个括号\n",
    "c=np.zeros((3,4),dtype=int)\n",
    "print(c)\n",
    "\n",
    "d=np.ones((3,4),dtype=int)\n",
    "print(d)\n",
    "\n",
    "e=np.empty((3,4))\n",
    "print(e)#生成的几乎都是零\n",
    "\n",
    "f=np.arange(10,20,2)#生成有序的序列\n",
    "print(f)\n",
    "\n",
    "g=np.arange(12)#默认初始值为0，步长为1\n",
    "print(g)\n",
    "print('number of dim:',g.ndim)\n",
    "print('shape:',g.shape)\n",
    "print('size:',g.size)\n",
    "\n",
    "h=np.arange(12).reshape((3,4))\n",
    "print(h)\n",
    "\n",
    "i=np.linspace(1,10,20)#从1到10 中间有20端\n",
    "print(i)\n",
    "print(i.reshape((4,5)))"
   ]
  },
  {
   "cell_type": "markdown",
   "metadata": {},
   "source": [
    "## numpy中的矩阵运算\n",
    "加法+    \n",
    "减法-    \n",
    "点乘*    \n",
    "除法/     \n",
    "乘方** 几次方就有几个*     \n",
    "np.dot(a,b)=a.dot(b)          \n",
    "np.sin()      \n",
    "  "
   ]
  },
  {
   "cell_type": "code",
   "execution_count": 35,
   "metadata": {},
   "outputs": [
    {
     "name": "stdout",
     "output_type": "stream",
     "text": [
      "[10 20 30 40] [0 1 2 3]\n",
      "[10 19 28 37]\n",
      "[  0  20  60 120]\n",
      "g: 200\n",
      "[0 1 4 9]\n",
      "[-5.44021111  9.12945251 -9.88031624  7.4511316 ]\n"
     ]
    }
   ],
   "source": [
    "import numpy as np\n",
    "a=np.array([10,20,30,40])\n",
    "b=np.arange(4)\n",
    "print(a,b)\n",
    "c=a-b\n",
    "print(c)\n",
    "d=a*b#点乘\n",
    "print(d)\n",
    "\n",
    "#矩阵的乘法\n",
    "g=np.dot(a,b)\n",
    "print('g:',g)\n",
    "e=b**2#次方\n",
    "print(e)\n",
    "\n",
    "#三角函数\n",
    "f=10*np.sin(a)\n",
    "print(f)"
   ]
  },
  {
   "cell_type": "code",
   "execution_count": 30,
   "metadata": {},
   "outputs": [
    {
     "name": "stdout",
     "output_type": "stream",
     "text": [
      "[ True  True  True False]\n"
     ]
    }
   ],
   "source": [
    "#比较\n",
    "print(b<3)"
   ]
  },
  {
   "cell_type": "code",
   "execution_count": 37,
   "metadata": {},
   "outputs": [
    {
     "name": "stdout",
     "output_type": "stream",
     "text": [
      "[[1 1]\n",
      " [0 1]]\n",
      "[[0 1]\n",
      " [2 3]]\n",
      "c: [[0 1]\n",
      " [0 3]]\n",
      "e: [[2 4]\n",
      " [2 3]]\n"
     ]
    }
   ],
   "source": [
    "import numpy as np\n",
    "a=np.array([[1,1],\n",
    "           [0,1]])\n",
    "b=np.arange(4).reshape((2,2))\n",
    "print(a)\n",
    "print(b)\n",
    "\n",
    "c=a*b\n",
    "print('c:',c)\n",
    "e=np.dot(a,b)\n",
    "#或者可以写成a.dot(b)\n",
    "print('e:',e)"
   ]
  },
  {
   "cell_type": "markdown",
   "metadata": {},
   "source": [
    "## 求和 取最大最小  \n",
    "np.sum()      \n",
    "np.max()      \n",
    "np.min()     \n",
    "axis=0 对列操作    \n",
    "axis=1 对行操作"
   ]
  },
  {
   "cell_type": "code",
   "execution_count": 41,
   "metadata": {},
   "outputs": [
    {
     "name": "stdout",
     "output_type": "stream",
     "text": [
      "a: [[0.10835958 0.58067124 0.67741057 0.48712016]\n",
      " [0.86835977 0.61518393 0.90858542 0.8404532 ]]\n",
      "sum: 5.08614387246083\n",
      "对每一列求和： [0.97671935 1.19585517 1.58599599 1.32757336]\n",
      "对每一行求和： [1.85356155 3.23258232]\n",
      "max: 0.9085854221023596\n",
      "对每一列求和: [0.86835977 0.61518393 0.90858542 0.8404532 ]\n",
      "对每一行求和: [0.67741057 0.90858542]\n",
      "min: 0.10835957830544274\n"
     ]
    }
   ],
   "source": [
    "#随机生成\n",
    "a=np.random.random((2,4))\n",
    "print('a:',a)\n",
    "\n",
    "print('sum:',np.sum(a))\n",
    "print('对每一列求和：',np.sum(a,axis=0))\n",
    "print('对每一行求和：',np.sum(a,axis=1))\n",
    "print('max:',np.max(a))\n",
    "print('对每一列求和:',np.max(a,axis=0))\n",
    "print('对每一行求和:',np.max(a,axis=1))\n",
    "print('min:',np.min(a))"
   ]
  },
  {
   "cell_type": "markdown",
   "metadata": {},
   "source": [
    "## 运算\n",
    "np.argmin()  \n",
    "np.argmax()    \n",
    "np.mean()或者是np.average()或者a.mean()  \n",
    "np.median()  \n",
    "np.cumsum()   \n",
    "np.diff()   \n",
    "np.nonzeros()   \n",
    "np.sort()  \n",
    "np.transpose()  \n"
   ]
  },
  {
   "cell_type": "code",
   "execution_count": 69,
   "metadata": {},
   "outputs": [
    {
     "name": "stdout",
     "output_type": "stream",
     "text": [
      "a: [[ 2  3  4  5]\n",
      " [ 6  7  8  9]\n",
      " [10 11 12 13]]\n",
      "0\n",
      "11\n",
      "mean: 7.5\n",
      "每一列的平均值:\n",
      " [6. 7. 8. 9.]\n",
      "每一行的平均值:\n",
      " [ 3.5  7.5 11.5]\n",
      "7.5\n",
      "average: 7.5\n",
      "中位数median: 7.5\n",
      "逐步累加: [ 2  5  9 14 20 27 35 44 54 65 77 90]\n",
      "每两个数之间的差: [[1 1 1]\n",
      " [1 1 1]\n",
      " [1 1 1]]\n",
      "非零的数:\n",
      " (array([0, 0, 0, 0, 1, 1, 1, 1, 2, 2, 2, 2], dtype=int64), array([0, 1, 2, 3, 0, 1, 2, 3, 0, 1, 2, 3], dtype=int64))\n",
      "b:\n",
      " [[14 13 12 11]\n",
      " [10  9  8  7]\n",
      " [ 6  5  4  3]]\n",
      "升序排列:\n",
      " [[11 12 13 14]\n",
      " [ 7  8  9 10]\n",
      " [ 3  4  5  6]]\n"
     ]
    }
   ],
   "source": [
    "import numpy as np\n",
    "a=np.arange(2,14).reshape((3,4))\n",
    "print('a:',a)\n",
    "#输出a中最小的数的索引位置\n",
    "print(np.argmin(a))\n",
    "print(np.argmax(a))\n",
    "\n",
    "#均值\n",
    "print('mean:',np.mean(a))\n",
    "print('每一列的平均值:\\n',np.mean(a,axis=0))\n",
    "print('每一行的平均值:\\n',np.mean(a,axis=1))\n",
    "#或者这么写\n",
    "print(a.mean())\n",
    "print('average:',np.average(a))\n",
    "#不能这么写a.average()\n",
    "\n",
    "#中位数\n",
    "print('中位数median:',np.median(a))\n",
    "\n",
    "#逐步累加累差\n",
    "print('逐步累加:',np.cumsum(a))\n",
    "print('每两个数之间的差:',np.diff(a))\n",
    "\n",
    "#找出非零的数的行数和列数\n",
    "print('非零的数:\\n',np.nonzero(a))\n",
    "#输出的内容中第一个array是非零数的行数，第二个array是非零数的列数\n",
    "\n",
    "#排序\n",
    "#默认对每一行进行升序排列\n",
    "b=np.arange(14,2,-1).reshape((3,4))\n",
    "print('b:\\n',b)\n",
    "print('升序排列:\\n',np.sort(b))"
   ]
  },
  {
   "cell_type": "code",
   "execution_count": 67,
   "metadata": {},
   "outputs": [
    {
     "name": "stdout",
     "output_type": "stream",
     "text": [
      "b:\n",
      " [[14 13 12 11]\n",
      " [10  9  8  7]\n",
      " [ 6  5  4  3]]\n",
      "b的转置:\n",
      " [[14 10  6]\n",
      " [13  9  5]\n",
      " [12  8  4]\n",
      " [11  7  3]]\n",
      "b的转置:\n",
      " [[14 10  6]\n",
      " [13  9  5]\n",
      " [12  8  4]\n",
      " [11  7  3]]\n",
      "b*b的转置:\n",
      " [[332 302 272 242]\n",
      " [302 275 248 221]\n",
      " [272 248 224 200]\n",
      " [242 221 200 179]]\n",
      "所有大于9的数都是9，所有小于5的数都是5，之间的数就保留不变:\n",
      " [[9 9 9 9]\n",
      " [9 9 8 7]\n",
      " [6 5 5 5]]\n"
     ]
    }
   ],
   "source": [
    "#矩阵的转置\n",
    "print('b:\\n',b)\n",
    "print('b的转置:\\n',b.T)\n",
    "#或者这么写\n",
    "print('b的转置:\\n',np.transpose(b))\n",
    "#b*b的转置\n",
    "print('b*b的转置:\\n',(b.T).dot(b))\n",
    "\n",
    "#数组的数值截断\n",
    "print('所有大于9的数都是9，所有小于5的数都是5，之间的数就保留不变:\\n',np.clip(b,5,9))"
   ]
  },
  {
   "cell_type": "markdown",
   "metadata": {},
   "source": [
    "## numpy索引\n",
    "根据位置找出值  \n"
   ]
  },
  {
   "cell_type": "code",
   "execution_count": 88,
   "metadata": {},
   "outputs": [
    {
     "name": "stdout",
     "output_type": "stream",
     "text": [
      "a:\n",
      " [ 3  4  5  6  7  8  9 10 11 12 13 14]\n",
      "a中位3的值: 6\n",
      "b:\n",
      " [[ 3  4  5  6]\n",
      " [ 7  8  9 10]\n",
      " [11 12 13 14]]\n",
      "b中位2的值(按行): [11 12 13 14]\n",
      "第二行第一列的数是: 7\n",
      "第二行第一列的数是: 7\n",
      "第一列的所有值:\n",
      " [ 3  7 11]\n",
      "第一行第2，3列的数:\n",
      " [8 9]\n"
     ]
    }
   ],
   "source": [
    "import numpy as np\n",
    "#一维\n",
    "a=np.arange(3,15)\n",
    "print('a:\\n',a)\n",
    "print('a中位3的值:',a[3])\n",
    "#二维\n",
    "b=a.reshape((3,4))\n",
    "print('b:\\n',b)\n",
    "print('b中位2的值(按行):',b[2])\n",
    "print('第二行第一列的数是:',b[1][0])\n",
    "#也可以这么写注意是中括号哦\n",
    "print('第二行第一列的数是:',b[1,0])\n",
    "#冒号代表所有的数字\n",
    "print('第一列的所有值:\\n',b[:,0])\n",
    "print('第一行第2，3列的数:\\n',b[1,1:3])"
   ]
  },
  {
   "cell_type": "code",
   "execution_count": 94,
   "metadata": {},
   "outputs": [
    {
     "name": "stdout",
     "output_type": "stream",
     "text": [
      "打印出b中每一行的数\n",
      "[3 4 5 6]\n",
      "[ 7  8  9 10]\n",
      "[11 12 13 14]\n",
      "打印出b中每一列的数\n",
      "[ 3  7 11]\n",
      "[ 4  8 12]\n",
      "[ 5  9 13]\n",
      "[ 6 10 14]\n",
      "打印出b中的每一个数字\n",
      "3\n",
      "4\n",
      "5\n",
      "6\n",
      "7\n",
      "8\n",
      "9\n",
      "10\n",
      "11\n",
      "12\n",
      "13\n",
      "14\n",
      "矩阵变数列:\n",
      " [ 3  4  5  6  7  8  9 10 11 12 13 14]\n"
     ]
    }
   ],
   "source": [
    "print('打印出b中每一行的数')\n",
    "for row in b:\n",
    "    print(row)\n",
    "    \n",
    "print('打印出b中每一列的数')\n",
    "for col in b.T: #转置一下原来的列就是现在的行了\n",
    "    print(col)\n",
    "    \n",
    "print('打印出b中的每一个数字')\n",
    "for item in b.flat:\n",
    "    print(item)\n",
    "\n",
    "    \n",
    "#b.flat是一个迭代器\n",
    "#b.flatten（）是把矩阵转换成一个序列\n",
    "print('矩阵变数列:\\n',b.flatten())"
   ]
  },
  {
   "cell_type": "markdown",
   "metadata": {},
   "source": [
    "## 矩阵的合并\n",
    "np.vstack(a,b,b) 等价于np.concatenate(（a,b,b）,axis=0)垂直竖直纵向合并   \n",
    "np.hstack(a,b,b) 等价于np.concatenate(（a,b,b）,axis=1）水平横向合并  \n",
    "a[np.newaxis,:]增加维度"
   ]
  },
  {
   "cell_type": "code",
   "execution_count": 113,
   "metadata": {},
   "outputs": [
    {
     "name": "stdout",
     "output_type": "stream",
     "text": [
      "垂直上下的合并 vertical stack:\n",
      " [[1 1 1]\n",
      " [2 2 2]\n",
      " [2 2 2]]\n",
      "a的shape: (3,) \n",
      " c的shape: (2, 3)\n",
      "水平左右合并: [1 1 1 2 2 2]\n",
      "[[1]\n",
      " [1]\n",
      " [1]]\n",
      "在行上面加一个维度:\n",
      " [[1 1 1]]\n",
      "此时他的shape是： (1, 3)\n",
      "在列上面加一个维度，就是一个纵向的数列的了:\n",
      " [[1]\n",
      " [1]\n",
      " [1]]\n",
      "此时他的shape是： (3, 1)\n",
      "A:\n",
      " [[1]\n",
      " [1]\n",
      " [1]]\n",
      "B:\n",
      " [[2]\n",
      " [2]\n",
      " [2]]\n",
      "变成两个列序列之后的水平合并:\n",
      " [[1 2]\n",
      " [1 2]\n",
      " [1 2]]\n",
      "把ABBA垂直合并:\n",
      " [[1]\n",
      " [1]\n",
      " [1]\n",
      " [2]\n",
      " [2]\n",
      " [2]\n",
      " [2]\n",
      " [2]\n",
      " [2]\n",
      " [1]\n",
      " [1]\n",
      " [1]]\n",
      "把ABBA水平合并:\n",
      " [[1 2 2 1]\n",
      " [1 2 2 1]\n",
      " [1 2 2 1]]\n"
     ]
    }
   ],
   "source": [
    "import numpy as np\n",
    "a=np.array([1,1,1])\n",
    "b=np.array([2,2,2])\n",
    "\n",
    "print('垂直上下的合并 vertical stack:\\n',np.vstack((a,b)))\n",
    "c=np.vstack((a,b))\n",
    "print('a的shape:',a.shape,'\\n','c的shape:',c.shape)\n",
    "\n",
    "d=np.hstack((a,b))\n",
    "print('水平左右合并:',d)\n",
    "\n",
    "print(a.reshape((3,1)))\n",
    "#转置不可以使一个行数列转置成列数列\n",
    "#在行上面加一个维度\n",
    "print('在行上面加一个维度:\\n',a[np.newaxis,:])\n",
    "print('此时他的shape是：',a[np.newaxis,:].shape)\n",
    "\n",
    "print('在列上面加一个维度，就是一个纵向的数列的了:\\n',a[:,np.newaxis])\n",
    "print('此时他的shape是：',a[:,np.newaxis].shape)\n",
    "\n",
    "A=np.array([1,1,1])[:,np.newaxis]\n",
    "B=np.array([2,2,2])[:,np.newaxis]\n",
    "print('A:\\n',A)\n",
    "print('B:\\n',B)\n",
    "C=np.hstack((A,B))\n",
    "print('变成两个列序列之后的水平合并:\\n',C)\n",
    "\n",
    "#多个矩阵的合并\n",
    "d=np.concatenate((A,B,B,A),axis=0)\n",
    "print('把ABBA垂直合并:\\n',d)\n",
    "e=np.concatenate((A,B,B,A),axis=1)\n",
    "print('把ABBA水平合并:\\n',e)"
   ]
  },
  {
   "cell_type": "markdown",
   "metadata": {},
   "source": [
    "## 矩阵的分割\n",
    "等量分割np.split(矩阵名字，块数，axis=0还是1)    \n",
    "不等量分割np.array_split(矩阵名字，块数，axis=0还是1)\n",
    "np.vsplit(矩阵名字，块数)   \n",
    "np.hsplit()"
   ]
  },
  {
   "cell_type": "code",
   "execution_count": 124,
   "metadata": {},
   "outputs": [
    {
     "name": "stdout",
     "output_type": "stream",
     "text": [
      "a:\n",
      " [[ 0  1  2  3]\n",
      " [ 4  5  6  7]\n",
      " [ 8  9 10 11]]\n",
      "纵向分割:\n",
      " [array([[0, 1],\n",
      "       [4, 5],\n",
      "       [8, 9]]), array([[ 2,  3],\n",
      "       [ 6,  7],\n",
      "       [10, 11]])]\n",
      "横向分割:\n",
      " [array([[0, 1, 2, 3]]), array([[4, 5, 6, 7]]), array([[ 8,  9, 10, 11]])]\n",
      "纵向不等量分割:\n",
      " [array([[0, 1],\n",
      "       [4, 5],\n",
      "       [8, 9]]), array([[ 2],\n",
      "       [ 6],\n",
      "       [10]]), array([[ 3],\n",
      "       [ 7],\n",
      "       [11]])]\n",
      "垂直纵向分成3块:\n",
      " [array([[0, 1, 2, 3]]), array([[4, 5, 6, 7]]), array([[ 8,  9, 10, 11]])]\n",
      "水平横向分成2块:\n",
      " [array([[0, 1],\n",
      "       [4, 5],\n",
      "       [8, 9]]), array([[ 2,  3],\n",
      "       [ 6,  7],\n",
      "       [10, 11]])]\n"
     ]
    }
   ],
   "source": [
    "import numpy as np\n",
    "a=np.arange(12).reshape(3,4)\n",
    "print('a:\\n',a)\n",
    "\n",
    "#要整除分割4列不能分成3块\n",
    "print('纵向分割:\\n',np.split(a,2,axis=1))\n",
    "print('横向分割:\\n',np.split(a,3,axis=0))\n",
    "\n",
    "#不等量的分割每一块的维度可以不同\n",
    "print('纵向不等量分割:\\n',np.array_split(a,3,axis=1))\n",
    "\n",
    "print('垂直纵向分成3块:\\n',np.vsplit(a,3))\n",
    "print('水平横向分成2块:\\n',np.hsplit(a,2))\n",
    "\n"
   ]
  },
  {
   "cell_type": "markdown",
   "metadata": {},
   "source": [
    "## copy&deep copy"
   ]
  },
  {
   "cell_type": "code",
   "execution_count": 128,
   "metadata": {},
   "outputs": [
    {
     "name": "stdout",
     "output_type": "stream",
     "text": [
      "a: [0 1 2 3]\n",
      "改变a之后，b与a相同吗: True\n",
      "改变a之后，d与a相同吗: True\n",
      "a,b,c,d都是指向同一个空间的，一个变化了，其他的都要变化:\n"
     ]
    }
   ],
   "source": [
    "import numpy as np\n",
    "a=np.arange(4)\n",
    "print('a:',a)\n",
    "b=a\n",
    "c=a\n",
    "d=b\n",
    "a[0]=11\n",
    "print('改变a之后，b与a相同吗:',b is a)\n",
    "print('改变a之后，d与a相同吗:',d is a)\n",
    "print('a,b,c,d都是指向同一个空间的，一个变化了，其他的都要变化:')"
   ]
  },
  {
   "cell_type": "code",
   "execution_count": 131,
   "metadata": {},
   "outputs": [
    {
     "name": "stdout",
     "output_type": "stream",
     "text": [
      "a [0 1 2 3]\n",
      "b [0 1 2 3]\n",
      "a和b是指向两个不同的空间，只是空间中的数值相同\n",
      "a: [ 0  1  2 44]\n",
      "b: [0 1 2 3]\n"
     ]
    }
   ],
   "source": [
    "a=np.arange(4)\n",
    "print('a',a)\n",
    "print('b',b)\n",
    "b=a.copy()#deep copy 只是复制了值\n",
    "print('a和b是指向两个不同的空间，只是空间中的数值相同')\n",
    "a[3]=44\n",
    "print('a:',a)\n",
    "print('b:',b)"
   ]
  },
  {
   "cell_type": "code",
   "execution_count": null,
   "metadata": {},
   "outputs": [],
   "source": []
  }
 ],
 "metadata": {
  "kernelspec": {
   "display_name": "Python 3",
   "language": "python",
   "name": "python3"
  },
  "language_info": {
   "codemirror_mode": {
    "name": "ipython",
    "version": 3
   },
   "file_extension": ".py",
   "mimetype": "text/x-python",
   "name": "python",
   "nbconvert_exporter": "python",
   "pygments_lexer": "ipython3",
   "version": "3.7.3"
  }
 },
 "nbformat": 4,
 "nbformat_minor": 2
}
