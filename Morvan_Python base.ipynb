{
 "cells": [
  {
   "cell_type": "code",
   "execution_count": 1,
   "metadata": {},
   "outputs": [
    {
     "data": {
      "text/plain": [
       "float"
      ]
     },
     "execution_count": 1,
     "metadata": {},
     "output_type": "execute_result"
    }
   ],
   "source": [
    "type(99.9)"
   ]
  },
  {
   "cell_type": "code",
   "execution_count": 2,
   "metadata": {},
   "outputs": [
    {
     "data": {
      "text/plain": [
       "int"
      ]
     },
     "execution_count": 2,
     "metadata": {},
     "output_type": "execute_result"
    }
   ],
   "source": [
    "a=5\n",
    "type(a)"
   ]
  },
  {
   "cell_type": "code",
   "execution_count": 3,
   "metadata": {},
   "outputs": [
    {
     "data": {
      "text/plain": [
       "10"
      ]
     },
     "execution_count": 3,
     "metadata": {},
     "output_type": "execute_result"
    }
   ],
   "source": [
    "5+5"
   ]
  },
  {
   "cell_type": "code",
   "execution_count": 5,
   "metadata": {},
   "outputs": [
    {
     "data": {
      "text/plain": [
       "(1, 4)"
      ]
     },
     "execution_count": 5,
     "metadata": {},
     "output_type": "execute_result"
    }
   ],
   "source": [
    "divmod(9,5)"
   ]
  },
  {
   "cell_type": "code",
   "execution_count": 6,
   "metadata": {},
   "outputs": [
    {
     "data": {
      "text/plain": [
       "15"
      ]
     },
     "execution_count": 6,
     "metadata": {},
     "output_type": "execute_result"
    }
   ],
   "source": [
    "0xf"
   ]
  },
  {
   "cell_type": "code",
   "execution_count": 8,
   "metadata": {},
   "outputs": [
    {
     "data": {
      "text/plain": [
       "'mmz'"
      ]
     },
     "execution_count": 8,
     "metadata": {},
     "output_type": "execute_result"
    }
   ],
   "source": [
    "name='llz'\n",
    "name.replace('l','m')"
   ]
  },
  {
   "cell_type": "code",
   "execution_count": 9,
   "metadata": {},
   "outputs": [
    {
     "data": {
      "text/plain": [
       "'addgjl'"
      ]
     },
     "execution_count": 9,
     "metadata": {},
     "output_type": "execute_result"
    }
   ],
   "source": [
    "letters='asdddfghjkl'\n",
    "letters[::2]"
   ]
  },
  {
   "cell_type": "code",
   "execution_count": 10,
   "metadata": {},
   "outputs": [
    {
     "data": {
      "text/plain": [
       "'ddgjl'"
      ]
     },
     "execution_count": 10,
     "metadata": {},
     "output_type": "execute_result"
    }
   ],
   "source": [
    "letters[2::2]"
   ]
  },
  {
   "cell_type": "code",
   "execution_count": 12,
   "metadata": {},
   "outputs": [
    {
     "data": {
      "text/plain": [
       "['', 'sd', 'sd', 'sd', 'sd', 'sd']"
      ]
     },
     "execution_count": 12,
     "metadata": {},
     "output_type": "execute_result"
    }
   ],
   "source": [
    "todos='asdasdasdasdasd'\n",
    "todos.split('a')"
   ]
  },
  {
   "cell_type": "code",
   "execution_count": 15,
   "metadata": {},
   "outputs": [
    {
     "data": {
      "text/plain": [
       "['asd', 'asd', 'asd', 'add']"
      ]
     },
     "execution_count": 15,
     "metadata": {},
     "output_type": "execute_result"
    }
   ],
   "source": [
    "m='asd,asd,asd,add'\n",
    "m.split(',')"
   ]
  },
  {
   "cell_type": "code",
   "execution_count": 21,
   "metadata": {},
   "outputs": [
    {
     "data": {
      "text/plain": [
       "'asddsfdfg'"
      ]
     },
     "execution_count": 21,
     "metadata": {},
     "output_type": "execute_result"
    }
   ],
   "source": [
    "aa=['asd','dsf','dfg']\n",
    "bb=''.join(aa)\n",
    "bb"
   ]
  },
  {
   "cell_type": "code",
   "execution_count": 6,
   "metadata": {},
   "outputs": [
    {
     "data": {
      "text/plain": [
       "'All That Doth Flow We Cannot Liquid Name\\nOr Else Would Fire And Water Be The Same;\\nBut That Is Liquid Which Is Moist And Wet\\nFire That Property Can Never Get.'"
      ]
     },
     "execution_count": 6,
     "metadata": {},
     "output_type": "execute_result"
    }
   ],
   "source": [
    "poem='''all that doth flow we cannot liquid name\n",
    "or else would fire and water be the same;\n",
    "but that is liquid which is moist and wet\n",
    "fire that property can never get.'''\n",
    "\n",
    "len(poem)\n",
    "poem.startswith('all')\n",
    "poem.strip(';')\n",
    "poem.capitalize()\n",
    "poem.title()"
   ]
  },
  {
   "cell_type": "markdown",
   "metadata": {},
   "source": [
    "# ---------------------华丽的分界线--------------------"
   ]
  },
  {
   "cell_type": "markdown",
   "metadata": {},
   "source": [
    "## print的用法  \n",
    "字符串与数字之间用逗号隔开,写完一小段就要用逗号截止   \n",
    "换行,'\\n',"
   ]
  },
  {
   "cell_type": "code",
   "execution_count": 1,
   "metadata": {},
   "outputs": [
    {
     "name": "stdout",
     "output_type": "stream",
     "text": [
      "I am Grace\n"
     ]
    }
   ],
   "source": [
    "print('I am Grace')"
   ]
  },
  {
   "cell_type": "code",
   "execution_count": 4,
   "metadata": {},
   "outputs": [
    {
     "name": "stdout",
     "output_type": "stream",
     "text": [
      "I'm Grace\n"
     ]
    }
   ],
   "source": [
    "print('I\\'m Grace')"
   ]
  },
  {
   "cell_type": "code",
   "execution_count": 5,
   "metadata": {},
   "outputs": [
    {
     "name": "stdout",
     "output_type": "stream",
     "text": [
      "applejuice\n"
     ]
    }
   ],
   "source": [
    "print('apple'+\"juice\")"
   ]
  },
  {
   "cell_type": "code",
   "execution_count": 6,
   "metadata": {},
   "outputs": [
    {
     "name": "stdout",
     "output_type": "stream",
     "text": [
      "3\n"
     ]
    }
   ],
   "source": [
    "print(1+2)"
   ]
  },
  {
   "cell_type": "code",
   "execution_count": 8,
   "metadata": {},
   "outputs": [
    {
     "name": "stdout",
     "output_type": "stream",
     "text": [
      "1个apple\n"
     ]
    }
   ],
   "source": [
    "print('1'+'个'+'apple')"
   ]
  },
  {
   "cell_type": "code",
   "execution_count": 9,
   "metadata": {},
   "outputs": [
    {
     "name": "stdout",
     "output_type": "stream",
     "text": [
      "1个apple\n"
     ]
    }
   ],
   "source": [
    "#数字变字符串\n",
    "print(str(1)+\"个\"+'apple')"
   ]
  },
  {
   "cell_type": "code",
   "execution_count": 12,
   "metadata": {},
   "outputs": [
    {
     "name": "stdout",
     "output_type": "stream",
     "text": [
      "5\n",
      "4.2\n"
     ]
    }
   ],
   "source": [
    "#字符串变数字\n",
    "#int是只能转整数\n",
    "print(int('1')+4)\n",
    "#float是转换成小数\n",
    "print(float('1.2')+3)"
   ]
  },
  {
   "cell_type": "markdown",
   "metadata": {},
   "source": [
    "## 数学运算"
   ]
  },
  {
   "cell_type": "code",
   "execution_count": 13,
   "metadata": {},
   "outputs": [
    {
     "data": {
      "text/plain": [
       "0.5"
      ]
     },
     "execution_count": 13,
     "metadata": {},
     "output_type": "execute_result"
    }
   ],
   "source": [
    "1+1\n",
    "1-1\n",
    "1*2\n",
    "1/2"
   ]
  },
  {
   "cell_type": "code",
   "execution_count": 19,
   "metadata": {},
   "outputs": [
    {
     "data": {
      "text/plain": [
       "2"
      ]
     },
     "execution_count": 19,
     "metadata": {},
     "output_type": "execute_result"
    }
   ],
   "source": [
    "#取整操作 向下取整\n",
    "5//2"
   ]
  },
  {
   "cell_type": "code",
   "execution_count": 20,
   "metadata": {},
   "outputs": [
    {
     "data": {
      "text/plain": [
       "1"
      ]
     },
     "execution_count": 20,
     "metadata": {},
     "output_type": "execute_result"
    }
   ],
   "source": [
    "#取余数\n",
    "9%4"
   ]
  },
  {
   "cell_type": "code",
   "execution_count": 21,
   "metadata": {},
   "outputs": [
    {
     "data": {
      "text/plain": [
       "1024"
      ]
     },
     "execution_count": 21,
     "metadata": {},
     "output_type": "execute_result"
    }
   ],
   "source": [
    "#次方操作\n",
    "2**10"
   ]
  },
  {
   "cell_type": "markdown",
   "metadata": {},
   "source": [
    "## 自变量variable的定义"
   ]
  },
  {
   "cell_type": "code",
   "execution_count": 22,
   "metadata": {},
   "outputs": [
    {
     "name": "stdout",
     "output_type": "stream",
     "text": [
      "1\n"
     ]
    }
   ],
   "source": [
    "apple_egg=1\n",
    "print(apple)"
   ]
  },
  {
   "cell_type": "code",
   "execution_count": 24,
   "metadata": {},
   "outputs": [
    {
     "data": {
      "text/plain": [
       "1"
      ]
     },
     "execution_count": 24,
     "metadata": {},
     "output_type": "execute_result"
    }
   ],
   "source": [
    "a,b,c=1,2,3\n",
    "a"
   ]
  },
  {
   "cell_type": "markdown",
   "metadata": {},
   "source": [
    "## while语句"
   ]
  },
  {
   "cell_type": "code",
   "execution_count": 10,
   "metadata": {},
   "outputs": [
    {
     "name": "stdout",
     "output_type": "stream",
     "text": [
      "1\n",
      "2\n",
      "3\n",
      "4\n",
      "5\n",
      "6\n",
      "7\n",
      "8\n",
      "9\n",
      "jump out number is: 10\n"
     ]
    }
   ],
   "source": [
    "condition=1\n",
    "while condition<10:\n",
    "    print(condition)\n",
    "    condition=condition+1\n",
    "\n",
    "print('jump out number is:',condition)"
   ]
  },
  {
   "cell_type": "markdown",
   "metadata": {},
   "source": [
    "## for循环 迭代器"
   ]
  },
  {
   "cell_type": "code",
   "execution_count": 36,
   "metadata": {},
   "outputs": [
    {
     "name": "stdout",
     "output_type": "stream",
     "text": [
      "1\n",
      "in for\n",
      "2\n",
      "in for\n",
      "3\n",
      "in for\n",
      "4\n",
      "in for\n",
      "5\n",
      "in for\n",
      "6\n",
      "in for\n",
      "7\n",
      "in for\n",
      "123\n",
      "in for\n",
      "34\n",
      "in for\n",
      "45\n",
      "in for\n",
      "67\n",
      "in for\n",
      "32\n",
      "in for\n",
      "out of for\n"
     ]
    }
   ],
   "source": [
    "example_list=[1,2,3,4,5,6,7,123,34,45,67,32]\n",
    "for i in example_list:\n",
    "    print(i)\n",
    "    print('in for')\n",
    "print(\"out of for\")"
   ]
  },
  {
   "cell_type": "markdown",
   "metadata": {},
   "source": [
    "## for 里面的内置函数，range 迭代器"
   ]
  },
  {
   "cell_type": "code",
   "execution_count": 39,
   "metadata": {},
   "outputs": [
    {
     "name": "stdout",
     "output_type": "stream",
     "text": [
      "1\n",
      "2\n",
      "3\n",
      "4\n",
      "5\n",
      "6\n",
      "7\n",
      "8\n",
      "9\n"
     ]
    }
   ],
   "source": [
    "for i in range(1,10):\n",
    "    print(i)"
   ]
  },
  {
   "cell_type": "markdown",
   "metadata": {},
   "source": [
    "if else语句"
   ]
  },
  {
   "cell_type": "code",
   "execution_count": 42,
   "metadata": {},
   "outputs": [
    {
     "name": "stdout",
     "output_type": "stream",
     "text": [
      "x is less than y \n"
     ]
    }
   ],
   "source": [
    "x=1\n",
    "y=2\n",
    "z=3\n",
    "if x<y :\n",
    "    print('x is less than y ')"
   ]
  },
  {
   "cell_type": "code",
   "execution_count": 46,
   "metadata": {},
   "outputs": [
    {
     "name": "stdout",
     "output_type": "stream",
     "text": [
      "x is less than y,and y is less than z\n",
      "the equation is false\n"
     ]
    }
   ],
   "source": [
    "x=1\n",
    "y=2\n",
    "z=3\n",
    "if x<y<z :\n",
    "    print('x is less than y,and y is less than z')\n",
    "    \n",
    "if x<y>z:\n",
    "    print('the equation is right')\n",
    "else:\n",
    "    print('the equation is false')\n",
    "    \n",
    "    "
   ]
  },
  {
   "cell_type": "code",
   "execution_count": 45,
   "metadata": {},
   "outputs": [
    {
     "name": "stdout",
     "output_type": "stream",
     "text": [
      "x is less or equal to y\n",
      "x is equal to y\n"
     ]
    }
   ],
   "source": [
    "x=2\n",
    "y=2\n",
    "if x<=y:\n",
    "    print('x is less or equal to y')\n",
    "    \n",
    "#==  !=\n",
    "if x==y:\n",
    "    print('x is equal to y')\n",
    "    \n",
    "    \n"
   ]
  },
  {
   "cell_type": "code",
   "execution_count": 47,
   "metadata": {},
   "outputs": [
    {
     "name": "stdout",
     "output_type": "stream",
     "text": [
      "x is greater than 1\n"
     ]
    }
   ],
   "source": [
    "x=4\n",
    "y=2\n",
    "z=1\n",
    "if x>1:\n",
    "    print('x is greater than 1')#一旦满足一个条件，就立刻跳出if循环\n",
    "elif x>2:\n",
    "    print('x is greater than 2')\n",
    "else:\n",
    "    print('none')"
   ]
  },
  {
   "cell_type": "markdown",
   "metadata": {},
   "source": [
    "## def定义函数"
   ]
  },
  {
   "cell_type": "code",
   "execution_count": 9,
   "metadata": {},
   "outputs": [
    {
     "name": "stdout",
     "output_type": "stream",
     "text": [
      "4\n",
      "4\n"
     ]
    }
   ],
   "source": [
    "def function(a,b):\n",
    "    c=a*2+b\n",
    "    print(c)\n",
    "\n",
    "function(1,2) #调用函数的时候一定要加括号\n",
    "function #如果不加括号\n",
    "function(b=2,a=1)\n",
    "#function(aa=1,bb=2) 实参名称一定要与形参名称一致"
   ]
  },
  {
   "cell_type": "code",
   "execution_count": 22,
   "metadata": {},
   "outputs": [
    {
     "name": "stdout",
     "output_type": "stream",
     "text": [
      "price: 1000 \n",
      " colour: red \n",
      " brand: carmy \n",
      " is_second_hand: True\n"
     ]
    }
   ],
   "source": [
    "def sale_car(price,colour,brand,is_second_hand):\n",
    "    print('price:',price,'\\n',\n",
    "         'colour:',colour,'\\n',\n",
    "         'brand:',brand,'\\n',\n",
    "         'is_second_hand:',is_second_hand)\n",
    "sale_car(1000,'red','carmy',True)"
   ]
  },
  {
   "cell_type": "code",
   "execution_count": 23,
   "metadata": {},
   "outputs": [
    {
     "name": "stdout",
     "output_type": "stream",
     "text": [
      "price: 1233 \n",
      " colour: blue \n",
      " brand: carmy \n",
      " is_second_hand: True\n"
     ]
    }
   ],
   "source": [
    "#默认参数\n",
    "def sale_car(price,colour='red',brand='carmy',is_second_hand=True):\n",
    "    print('price:',price,'\\n',\n",
    "         'colour:',colour,'\\n',\n",
    "         'brand:',brand,'\\n',\n",
    "         'is_second_hand:',is_second_hand)\n",
    "sale_car(1233,colour='blue')"
   ]
  },
  {
   "cell_type": "markdown",
   "metadata": {},
   "source": [
    "## 全局和局部变量"
   ]
  },
  {
   "cell_type": "code",
   "execution_count": 26,
   "metadata": {},
   "outputs": [
    {
     "name": "stdout",
     "output_type": "stream",
     "text": [
      "100\n",
      "200\n",
      "100\n"
     ]
    }
   ],
   "source": [
    "APPLE=100#定义一个全局变量\n",
    "print(APPLE)\n",
    "def fun():\n",
    "    a=APPLE#定义局部变量，全局变量可以在任何地方用\n",
    "    print(a)\n",
    "    return a+100\n",
    "\n",
    "print(fun())\n",
    "\n",
    "#不可以直接print（a）因为a是局部内部变量\n"
   ]
  },
  {
   "cell_type": "code",
   "execution_count": 28,
   "metadata": {},
   "outputs": [
    {
     "name": "stdout",
     "output_type": "stream",
     "text": [
      "a pass: None\n",
      "120\n",
      "a now: 100\n"
     ]
    }
   ],
   "source": [
    "a=None\n",
    "def fun():\n",
    "    global a#由于之前在外部申明了a，所以这里可以在函数内部定义一个全局变量\n",
    "    a=100\n",
    "    return a+20\n",
    "\n",
    "print('a pass:',a)#此时输出的是原来的a\n",
    "print(fun())#经过函数后\n",
    "print(\"a now:\",a)"
   ]
  },
  {
   "cell_type": "markdown",
   "metadata": {},
   "source": [
    "## 文件的写"
   ]
  },
  {
   "cell_type": "code",
   "execution_count": 13,
   "metadata": {},
   "outputs": [],
   "source": [
    "text='This is my first text. \\nThis is next line. \\nThis is last line.\\n'\n",
    "#print(text)\n",
    "my_file=open('my file.txt','w')#如果原先这个文件不存在，那么就新建一个，否则直接打开\n",
    "#D:\\Jupyter 自动保存在文件运行的路径下\n",
    "my_file.write(text)\n",
    "my_file.close()#一定要调用这个关闭文件的函数"
   ]
  },
  {
   "cell_type": "code",
   "execution_count": 14,
   "metadata": {},
   "outputs": [],
   "source": [
    "append_text='\\nThis is appended file'\n",
    "my_file=open('my file.txt','a')#要追加内容的话就用a\n",
    "my_file.write(append_text)\n",
    "my_file.close()"
   ]
  },
  {
   "cell_type": "markdown",
   "metadata": {},
   "source": [
    "## 文件的读取"
   ]
  },
  {
   "cell_type": "code",
   "execution_count": 15,
   "metadata": {},
   "outputs": [
    {
     "name": "stdout",
     "output_type": "stream",
     "text": [
      "This is my first text. \n",
      "This is next line. \n",
      "This is last line.\n",
      "\n",
      "This is appended file\n"
     ]
    }
   ],
   "source": [
    "file=open('my file.txt','r')#r  是读的方式\n",
    "#open 是把文件放在了file里面，还要用读的方式吧内容读出来\n",
    "content=file.read()\n",
    "print(content)"
   ]
  },
  {
   "cell_type": "code",
   "execution_count": 19,
   "metadata": {},
   "outputs": [
    {
     "name": "stdout",
     "output_type": "stream",
     "text": [
      "This is my first text. \n",
      " This is next line. \n",
      "\n",
      "['This is last line.\\n', '\\n', 'This is appended file']\n"
     ]
    }
   ],
   "source": [
    "file=open('my file.txt','r')#r  是读的方式\n",
    "#如果是要读取Excel文件，那么就使用file.readline（）或者是file.readlines\n",
    "content1=file.readline()#调用一次这个函数只读取一行\n",
    "content2=file.readline()#第二次调用读取第二行\n",
    "print(content1,content2)\n",
    "#接在这个后面写表示读取后面的所有行\n",
    "contents=file.readlines()#一次读取所有行,然后把它放在python列表里面\n",
    "print(contents)"
   ]
  },
  {
   "cell_type": "markdown",
   "metadata": {},
   "source": [
    "## 类class"
   ]
  },
  {
   "cell_type": "code",
   "execution_count": 26,
   "metadata": {},
   "outputs": [
    {
     "name": "stdout",
     "output_type": "stream",
     "text": [
      "Good calculator\n",
      "18\n",
      "Good calculator\n",
      "21\n"
     ]
    }
   ],
   "source": [
    "class Calculator:\n",
    "    #这一个类自己的属性\n",
    "    name='Good calculator'\n",
    "    price=18\n",
    "    def add(self,a,b):\n",
    "        print(self.name)\n",
    "        result=a+b\n",
    "        print(result)\n",
    "    \n",
    "    def minus(self,a,b):\n",
    "        print(a-b)\n",
    "        \n",
    "    def times(self,a,b):\n",
    "        print(a*b)\n",
    "        \n",
    "    def divid(self,a,b):\n",
    "        print(a/b)\n",
    "        \n",
    "\n",
    "calcul=Calculator()\n",
    "print(calcul.name)#获取Calculator这个类的属性\n",
    "print(calcul.price)\n",
    "#calculate=Calculator.add(a=1,b=2) #不能这么写，一定要先把这个类赋给一个个体calcul\n",
    "calcul.add(10,11)"
   ]
  },
  {
   "cell_type": "markdown",
   "metadata": {},
   "source": [
    "## 类的初始init"
   ]
  },
  {
   "cell_type": "code",
   "execution_count": 34,
   "metadata": {},
   "outputs": [
    {
     "name": "stdout",
     "output_type": "stream",
     "text": [
      "bad calculator\n",
      "30\n",
      "bad calculator\n",
      "4\n",
      "None\n"
     ]
    }
   ],
   "source": [
    "class Calculator:\n",
    "    #这下面两行是故有属性\n",
    "    name='Good calculator'\n",
    "    price=18\n",
    "    def __init__(self,name,price,height,width,weight):#这里左右两边是各有两个下划线哦\n",
    "    #加载到这个类的属性中，是我给他的属性，与故有属性不同哦\n",
    "        self.name=name\n",
    "        self.price=price\n",
    "        self.h=height\n",
    "        self.wi=width\n",
    "        self.we=weight\n",
    "    \n",
    "    def add(self,a,b):\n",
    "        print(self.name)\n",
    "        result=a+b\n",
    "        print(result)\n",
    "    \n",
    "    def minus(self,a,b):\n",
    "        print(a-b)\n",
    "        \n",
    "    def times(self,a,b):\n",
    "        print(a*b)\n",
    "        \n",
    "    def divid(self,a,b):\n",
    "        print(a/b)\n",
    "        \n",
    "\n",
    "c=Calculator('bad calculator',12,30,15,19)#在建立类的时候加了一个属性，所以输出的不是故有属性了\n",
    "print(c.name)\n",
    "print(c.h)\n",
    "print(c.add(1,3))"
   ]
  },
  {
   "cell_type": "code",
   "execution_count": 36,
   "metadata": {},
   "outputs": [
    {
     "name": "stdout",
     "output_type": "stream",
     "text": [
      "bad calculator\n",
      "3\n"
     ]
    }
   ],
   "source": [
    "#init里面有默认的输入值\n",
    "class Calculator:\n",
    "    #这下面两行是故有属性\n",
    "    name='Good calculator'\n",
    "    price=18\n",
    "    def __init__(self,name,price=12,height=13,width=14,weight=15):#这里左右两边是各有两个下划线哦\n",
    "    #加载到这个类的属性中，是我给他的属性，与故有属性不同哦\n",
    "        self.name=name\n",
    "        self.price=price\n",
    "        self.h=height\n",
    "        self.wi=width\n",
    "        self.we=weight\n",
    "        self.add(1,2)#一开始初始化的时候就会调用后面的函数\n",
    "        \n",
    "    def add(self,a,b):\n",
    "        print(self.name)\n",
    "        result=a+b\n",
    "        print(result)\n",
    "    \n",
    "    def minus(self,a,b):\n",
    "        print(a-b)\n",
    "        \n",
    "    def times(self,a,b):\n",
    "        print(a*b)\n",
    "        \n",
    "    def divid(self,a,b):\n",
    "        print(a/b)\n",
    "        \n",
    "\n",
    "c=Calculator('bad calculator',12)#在建立类的时候加了一个属性，所以输出的不是故有属性了\n",
    "#一开始初始化就会执行add这个函数"
   ]
  },
  {
   "cell_type": "markdown",
   "metadata": {},
   "source": [
    "## input从键盘输入一个值，然后复制给一个东东"
   ]
  },
  {
   "cell_type": "code",
   "execution_count": 41,
   "metadata": {},
   "outputs": [
    {
     "name": "stdout",
     "output_type": "stream",
     "text": [
      "please give a number:5\n",
      "15\n"
     ]
    }
   ],
   "source": [
    "a_input=input(\"please give a number:\")\n",
    "print(int(a_input)+10)"
   ]
  },
  {
   "cell_type": "code",
   "execution_count": 2,
   "metadata": {},
   "outputs": [
    {
     "name": "stdout",
     "output_type": "stream",
     "text": [
      "please give a number:2\n",
      "see you next time\n"
     ]
    }
   ],
   "source": [
    "a=input(\"please give a number:\")\n",
    "##注意啦，input的返回值是str，是一个字符，所以在下面比较的时候应该和字符进行比较,\n",
    "#或者在input前面进行强制类型转换成int（）\n",
    "if a =='1':\n",
    "    print('good luck')\n",
    "elif a=='2':\n",
    "    print(\"see you next time\")\n",
    "else:\n",
    "    print(\"over\")"
   ]
  },
  {
   "cell_type": "markdown",
   "metadata": {},
   "source": [
    "## 元组tuple 列表list"
   ]
  },
  {
   "cell_type": "code",
   "execution_count": 11,
   "metadata": {},
   "outputs": [
    {
     "name": "stdout",
     "output_type": "stream",
     "text": [
      "12\n",
      "23\n",
      "45\n",
      "657\n",
      "54\n",
      "index= 0 ,number in list is: 12\n",
      "index= 1 ,number in list is: 23\n",
      "index= 2 ,number in list is: 45\n",
      "index= 3 ,number in list is: 657\n",
      "index= 4 ,number in list is: 54\n",
      "\n",
      "\n",
      "index= 0 ,number in a_tuple is: 12\n",
      "index= 1 ,number in a_tuple is: 23\n",
      "index= 2 ,number in a_tuple is: 45\n",
      "index= 3 ,number in a_tuple is: 657\n",
      "index= 4 ,number in a_tuple is: 54\n"
     ]
    }
   ],
   "source": [
    "a_tuple=(1,2,3,4,5)\n",
    "b_tuple=2,3,4,5,6,7#元组的另一种写法\n",
    "\n",
    "a_list=[12,23,45,657,54]\n",
    "\n",
    "for content in a_list:\n",
    "    print(content)\n",
    "    \n",
    "for index in range(len(a_list)):\n",
    "    print('index=',index,',number in list is:',a_list[index])\n",
    "\n",
    "print('\\n')\n",
    "for index in range(len(a_tuple)):\n",
    "    print('index=',index,',number in a_tuple is:',a_list[index])"
   ]
  },
  {
   "cell_type": "code",
   "execution_count": 25,
   "metadata": {},
   "outputs": [
    {
     "name": "stdout",
     "output_type": "stream",
     "text": [
      "1\n",
      "34\n",
      "[1, 2, 3]\n",
      "[1, 2, 3]\n",
      "[4, 5]\n",
      "[4, 5, 6, 34, 2, 34]\n",
      "[34, 2, 34]\n",
      "[1, 2, 3, 4, 5, 6, 34, 2, 34, 0] \n",
      "\n",
      "[1, 0, 2, 3, 4, 5, 6, 34, 2, 34, 0] \n",
      "\n",
      "[1, 0, 3, 4, 5, 6, 34, 2, 34, 0] \n",
      "\n",
      "6\n",
      "2\n",
      "[0, 0, 1, 2, 3, 4, 5, 6, 34, 34] \n",
      "\n",
      "[34, 34, 6, 5, 4, 3, 2, 1, 0, 0] \n",
      "\n"
     ]
    }
   ],
   "source": [
    "a=[1,2,3,4,5,6,34,2,34]\n",
    "\n",
    "print(a[0])\n",
    "print(a[-1])#从最后一位开始数，第一位是-1\n",
    "\n",
    "print(a[0:3])#打印出0，1，2\n",
    "print(a[:3])#打印出第一个数到位3\n",
    "print(a[3:5])\n",
    "print(a[3:])#从位3打印到最后一个数\n",
    "print(a[-3:])#从倒数第三位打印到最后一个数\n",
    "\n",
    "\n",
    "a.append(0)\n",
    "print(a,'\\n')\n",
    "\n",
    "#后续的每一步都是在前一步的基础上进行的，是直接对a这个列表进行操作\n",
    "\n",
    "a.insert(1,0)#在位1，加入0\n",
    "print(a,'\\n')\n",
    "\n",
    "#删除第一个2\n",
    "a.remove(2) \n",
    "print(a,'\\n')\n",
    "\n",
    "#打印出列表中某个值第一次出现的索引\n",
    "print(a.index(34))\n",
    "#数某个数出现的次数\n",
    "print(a.count(34))\n",
    "\n",
    "#排序，默认从小到大\n",
    "a.sort()\n",
    "print(a,'\\n')\n",
    "a.sort(reverse=True)\n",
    "print(a,'\\n')\n",
    "\n"
   ]
  },
  {
   "cell_type": "markdown",
   "metadata": {},
   "source": [
    "### 多维列表"
   ]
  },
  {
   "cell_type": "code",
   "execution_count": 27,
   "metadata": {},
   "outputs": [
    {
     "name": "stdout",
     "output_type": "stream",
     "text": [
      "2\n",
      "5\n"
     ]
    }
   ],
   "source": [
    "a=[1,2,3,4]#1行5列\n",
    "multi_dim_a=[[1,2,3],\n",
    "             [2,3,4],\n",
    "             [3,4,5]]#3行3列\n",
    "print(a[1])\n",
    "print(multi_dim_a[2][2])#第0行的第1列\n"
   ]
  },
  {
   "cell_type": "markdown",
   "metadata": {},
   "source": [
    "## 字典 字典是无序的"
   ]
  },
  {
   "cell_type": "code",
   "execution_count": 5,
   "metadata": {},
   "outputs": [
    {
     "name": "stdout",
     "output_type": "stream",
     "text": [
      "1\n",
      "{'apple': 1, 'orang': 3}\n",
      "{'apple': 1, 'orang': 3, 'b': 20}\n"
     ]
    }
   ],
   "source": [
    "d={'apple':1,'pear':2,'orang':3}\n",
    "print(d['apple'])\n",
    "del d['pear']#删除字典中的一个键值对\n",
    "print(d)\n",
    "\n",
    "#添加一个\n",
    "d['b']=20\n",
    "print(d)"
   ]
  },
  {
   "cell_type": "code",
   "execution_count": 12,
   "metadata": {},
   "outputs": [
    {
     "name": "stdout",
     "output_type": "stream",
     "text": [
      "{'apple': [1, 3, 2, 3], 'orange': {'a': 1, 's': 2, 'd': 3}, 'banana': 2}\n",
      "1\n",
      "2\n"
     ]
    }
   ],
   "source": [
    "dic={'apple':[1,3,2,3],'orange':{'a':1,'s':2,'d':3},'banana':2}\n",
    "print(dic)\n",
    "print(dic['orange']['a'])\n",
    "print(dic['apple'][2])"
   ]
  },
  {
   "cell_type": "markdown",
   "metadata": {},
   "source": [
    "## 装载模块\n"
   ]
  },
  {
   "cell_type": "code",
   "execution_count": 15,
   "metadata": {},
   "outputs": [
    {
     "name": "stdout",
     "output_type": "stream",
     "text": [
      "time.struct_time(tm_year=2020, tm_mon=4, tm_mday=8, tm_hour=12, tm_min=9, tm_sec=58, tm_wday=2, tm_yday=99, tm_isdst=0)\n"
     ]
    }
   ],
   "source": [
    "import time\n",
    "print(time.localtime())"
   ]
  },
  {
   "cell_type": "code",
   "execution_count": 16,
   "metadata": {},
   "outputs": [
    {
     "name": "stdout",
     "output_type": "stream",
     "text": [
      "time.struct_time(tm_year=2020, tm_mon=4, tm_mday=8, tm_hour=12, tm_min=10, tm_sec=50, tm_wday=2, tm_yday=99, tm_isdst=0)\n"
     ]
    }
   ],
   "source": [
    "import time as t\n",
    "print(t.localtime())"
   ]
  },
  {
   "cell_type": "code",
   "execution_count": 18,
   "metadata": {},
   "outputs": [
    {
     "name": "stdout",
     "output_type": "stream",
     "text": [
      "1586319473.4335008\n",
      "time.struct_time(tm_year=2020, tm_mon=4, tm_mday=8, tm_hour=12, tm_min=17, tm_sec=53, tm_wday=2, tm_yday=99, tm_isdst=0)\n"
     ]
    }
   ],
   "source": [
    "#如果只想用time模块中的time localtime这两个功能\n",
    "from time import time,localtime\n",
    "#import了里面的所有功能\n",
    "#from time import *\n",
    "#然后就可以直接用time localtime\n",
    "print(time())\n",
    "print(localtime())"
   ]
  },
  {
   "cell_type": "markdown",
   "metadata": {},
   "source": [
    "如何应用自己所创建的模块(脚本）\n",
    "就是在当前文件夹下，写了一个.py的文件，命名为m1\n",
    "然后在这个文件中\n",
    "import m1\n",
    "m1.dataprint()然后这么用就可以了"
   ]
  },
  {
   "cell_type": "markdown",
   "metadata": {},
   "source": [
    "## continue &break"
   ]
  },
  {
   "cell_type": "code",
   "execution_count": 1,
   "metadata": {},
   "outputs": [
    {
     "name": "stdout",
     "output_type": "stream",
     "text": [
      "type something2\n",
      "still in while\n",
      "type something1\n",
      "finished run\n"
     ]
    }
   ],
   "source": [
    "while True:\n",
    "    b=input('type something')\n",
    "    if b=='1':\n",
    "        break\n",
    "    else:\n",
    "        pass  #pass就是什么也不做\n",
    "    print('still in while')\n",
    "    \n",
    "print('finished run')"
   ]
  },
  {
   "cell_type": "markdown",
   "metadata": {},
   "source": [
    "## 错误处理try"
   ]
  },
  {
   "cell_type": "code",
   "execution_count": 4,
   "metadata": {},
   "outputs": [
    {
     "name": "stdout",
     "output_type": "stream",
     "text": [
      "[Errno 2] No such file or directory: 'eee'\n"
     ]
    }
   ],
   "source": [
    "try:\n",
    "    file=open('eee','r')\n",
    "except Exception as e:# 把错误exception存储在e中\n",
    "    print(e)"
   ]
  },
  {
   "cell_type": "code",
   "execution_count": 10,
   "metadata": {},
   "outputs": [],
   "source": [
    "try:\n",
    "    file=open('eee.txt','r+')#r+只读加写入的方式打开文件\n",
    "except Exception as e:# 把错误exception存储在e中\n",
    "    print('there is no file named as eee')\n",
    "    response=input('do you want to create a new file?')\n",
    "    if response=='yes':\n",
    "        file=open('eee.txt','w')\n",
    "    else:\n",
    "        pass\n",
    "else:#这个else是与try配套的，表示如果没有错误（即存在这个eee的文件），那么就往文件里写东西\n",
    "    file.write('sss')\n",
    "file.close()"
   ]
  },
  {
   "cell_type": "markdown",
   "metadata": {},
   "source": [
    "## zip lambda map\n",
    "map是吧功能和参数两部分合起来的一个运算"
   ]
  },
  {
   "cell_type": "code",
   "execution_count": 12,
   "metadata": {},
   "outputs": [
    {
     "name": "stdout",
     "output_type": "stream",
     "text": [
      "[(1, 4), (2, 5), (3, 6)]\n"
     ]
    }
   ],
   "source": [
    "a=[1,2,3]\n",
    "b=[4,5,6]\n",
    "c=list(zip(a,b))\n",
    "print(c)\n"
   ]
  },
  {
   "cell_type": "code",
   "execution_count": 14,
   "metadata": {},
   "outputs": [
    {
     "name": "stdout",
     "output_type": "stream",
     "text": [
      "0.5 8\n",
      "1.0 10\n",
      "1.5 12\n"
     ]
    },
    {
     "data": {
      "text/plain": [
       "[(1, 1, 4), (2, 2, 5), (3, 3, 6)]"
      ]
     },
     "execution_count": 14,
     "metadata": {},
     "output_type": "execute_result"
    }
   ],
   "source": [
    "a=[1,2,3]\n",
    "b=[4,5,6]\n",
    "#zip当做迭代器的输出\n",
    "for i,j in zip(a,b):\n",
    "    print(i/2,j*2)\n",
    "\n",
    "list(zip(a,a,b))"
   ]
  },
  {
   "cell_type": "code",
   "execution_count": 17,
   "metadata": {},
   "outputs": [
    {
     "name": "stdout",
     "output_type": "stream",
     "text": [
      "4\n",
      "4\n",
      "[3]\n",
      "[3, 8]\n"
     ]
    }
   ],
   "source": [
    "#用lambda定义一个简单的方程，fun1与fun2的功能相同\n",
    "def fun1(x,y):\n",
    "    return x+y\n",
    "fun2=lambda x,y:x+y\n",
    "\n",
    "print(fun1(1,3))\n",
    "print(fun2(1,3))\n",
    "\n",
    "map(fun1,[1],[2])#吧函数名，以及要输入的参数打包在一起输入，结果是一个object\n",
    "print(list(map(fun1,[1],[2])))\n",
    "print(list(map(fun1,[1,3],[2,5])))#一个【】里面都是x，第二个【】里面都是y"
   ]
  },
  {
   "cell_type": "markdown",
   "metadata": {},
   "source": [
    "## copy与deepcopy"
   ]
  },
  {
   "cell_type": "code",
   "execution_count": 24,
   "metadata": {},
   "outputs": [
    {
     "name": "stdout",
     "output_type": "stream",
     "text": [
      "2230941100552\n",
      "2230941100552\n",
      "[11, 2, 3]\n",
      "True\n",
      "False\n",
      "[11, 2, 3]\n"
     ]
    }
   ],
   "source": [
    "#等于符号=，就是两个变量的所有内容都会指向同一个空间\n",
    "import copy\n",
    "a=[1,2,3]\n",
    "b=a\n",
    "print(id(a))\n",
    "print(id(b))\n",
    "#a与b的id值是一样的，说明他们两个是指向同一个空间的，改变其中一个另一个也会随之改变\n",
    "b[0]=11\n",
    "print(a)\n",
    "print(id(a)==id(b))\n",
    "c=copy.copy(a)#浅赋值\n",
    "print(id(a)==id(c))\n",
    "a[1]=22\n",
    "print(c)"
   ]
  },
  {
   "cell_type": "code",
   "execution_count": 28,
   "metadata": {},
   "outputs": [
    {
     "name": "stdout",
     "output_type": "stream",
     "text": [
      "False\n",
      "True\n",
      "[1, 2, [1, 4]]\n"
     ]
    }
   ],
   "source": [
    "#浅赋值 第一层列表不会再同一个空间，但是深一层的列表会在同一个空间\n",
    "a=[1,2,[3,4]]\n",
    "d=copy.copy(a)\n",
    "print(id(a)==id(d))\n",
    "\n",
    "print(id(a[1])==id(d[1]))#因为是copy.copy（）是浅复制，所以还是有部分重复\n",
    "a[2][0]=1\n",
    "print(d)#d的d[2][1]也会被改变\n"
   ]
  },
  {
   "cell_type": "code",
   "execution_count": 29,
   "metadata": {},
   "outputs": [
    {
     "name": "stdout",
     "output_type": "stream",
     "text": [
      "False\n",
      "False\n"
     ]
    }
   ],
   "source": [
    "#深复制 复制之后两者不会有任何地方会有重复的内存空间\n",
    "a=[1,2,[3,4]]\n",
    "e=copy.deepcopy(a)\n",
    "print(id(a)==id(e))\n",
    "print(id(a[2])==id(e[2]))"
   ]
  },
  {
   "cell_type": "markdown",
   "metadata": {},
   "source": [
    "## threading多线程，就是让python在同一时间去做很多事情\n",
    "multiprocessing多核"
   ]
  },
  {
   "cell_type": "markdown",
   "metadata": {},
   "source": [
    "## pickle将计算的结果保存与第一次用到时提取"
   ]
  },
  {
   "cell_type": "code",
   "execution_count": 30,
   "metadata": {},
   "outputs": [],
   "source": [
    "import pickle\n",
    "a_dict={'da':111,2:[23,4,5],'23':{1:2,'d':'sad'}}\n",
    "file=open('pickle_example.pickle','wb')#wb写入二进制，是电脑可以读取的形式\n",
    "pickle.dump(a_dict,file)#pickle是一个挖土机，把a_dict中的内容倒入file中\n",
    "file.close()\n",
    "#这个时候你的当前文件夹下面就有这个pickle_example了\n"
   ]
  },
  {
   "cell_type": "code",
   "execution_count": 31,
   "metadata": {},
   "outputs": [
    {
     "name": "stdout",
     "output_type": "stream",
     "text": [
      "{'da': 111, 2: [23, 4, 5], '23': {1: 2, 'd': 'sad'}}\n"
     ]
    }
   ],
   "source": [
    "#到了第二天，你要对这个文件继续进行加工\n",
    "file=open('pickle_example.pickle','rb')\n",
    "a_dict1=pickle.load(file)#把file中的内容加载出来给a_dict1\n",
    "file.close()\n",
    "print(a_dict1)"
   ]
  },
  {
   "cell_type": "code",
   "execution_count": 33,
   "metadata": {},
   "outputs": [
    {
     "name": "stdout",
     "output_type": "stream",
     "text": [
      "{'da': 111, 2: [23, 4, 5], '23': {1: 2, 'd': 'sad'}}\n"
     ]
    }
   ],
   "source": [
    "#实现和上面一样的功能，就不用close file了\n",
    "with open('pickle_example.pickle','rb') as file:\n",
    "    a_dict2=pickle.load(file)\n",
    "print(a_dict2)"
   ]
  },
  {
   "cell_type": "markdown",
   "metadata": {},
   "source": [
    "## set集合\n",
    "set 把所有相同的删除掉，只留下一个 \n",
    "\n",
    "set集合这个类型是{，，，} \n",
    "\n",
    "其中不会存在任何重复的东西\n",
    "\n",
    "加东西，集合名.add(加入的内容)\n",
    "\n",
    "删除东西，集合名.remove(要删除的内容)"
   ]
  },
  {
   "cell_type": "code",
   "execution_count": 42,
   "metadata": {},
   "outputs": [
    {
     "name": "stdout",
     "output_type": "stream",
     "text": [
      "{'c', 'd', 'b', 'a'}\n",
      "<class 'set'>\n",
      "{'W', 'o', 'k', 'i', 'c', ' ', 'B', 'm', 'T', 's', 'u', 'r', 'l', 't', 'h', 'e', 'a'}\n",
      "{'b', 'c', 'x', 'd', 'a'}\n",
      "{'b', 'c', 'x', 'd', 'a'}\n",
      "None\n",
      "{'b', 'c', 'd', 'a'}\n"
     ]
    }
   ],
   "source": [
    "char_list=['a','a','b','b','b','b','c','d','d']\n",
    "print(set(char_list))\n",
    "print(type(set(char_list)))#类型是set\n",
    "\n",
    "sentence='Welcome Back to This Tutorial'\n",
    "print(set(sentence))\n",
    "\n",
    "unique_char=set(char_list)\n",
    "unique_char.add('x') #add这个函数是针对set，不针对list\n",
    "print(unique_char)\n",
    "unique_char.add('a')#如果是加入以前就存在的，那么不会被加入\n",
    "print(unique_char)\n",
    "#只能一个个地往set里面加，不能加一个list\n",
    "#unique_char.add(['s','a']) 这样写会报错\n",
    "\n",
    "print(unique_char.remove('x'))#删除一个值，但是返回值是none，如果删除的是原来不存在的东西，那么就一定会报错\n",
    "print(unique_char)\n",
    "print(unique_char.discard('y'))#删除一个原来不存在的东西，不会报错"
   ]
  },
  {
   "cell_type": "markdown",
   "metadata": {},
   "source": [
    "### 两个集合的交集与并集"
   ]
  },
  {
   "cell_type": "code",
   "execution_count": 46,
   "metadata": {},
   "outputs": [
    {
     "name": "stdout",
     "output_type": "stream",
     "text": [
      "{'c', 'b'}\n",
      "{'a'}\n"
     ]
    }
   ],
   "source": [
    "set1={'a','b','c'}\n",
    "set2={'a','e','i'}\n",
    "print(set1.difference(set2))#set1中有，但是set2中没有的东西\n",
    "print(set1.intersection(set2))#交集“\n"
   ]
  },
  {
   "cell_type": "markdown",
   "metadata": {},
   "source": [
    "## 正则表达式Regular expression\n",
    "主要用于文本处理中"
   ]
  },
  {
   "cell_type": "code",
   "execution_count": 47,
   "metadata": {},
   "outputs": [],
   "source": [
    "import re"
   ]
  },
  {
   "cell_type": "markdown",
   "metadata": {},
   "source": [
    "### 简单的python匹配"
   ]
  },
  {
   "cell_type": "code",
   "execution_count": 49,
   "metadata": {},
   "outputs": [
    {
     "name": "stdout",
     "output_type": "stream",
     "text": [
      "True\n",
      "False\n"
     ]
    }
   ],
   "source": [
    "pattern1='cat'\n",
    "pattern2='bird'\n",
    "string='dog runs to cat'\n",
    "print(pattern1 in string)\n",
    "print(pattern2 in string)"
   ]
  },
  {
   "cell_type": "markdown",
   "metadata": {},
   "source": [
    "### 用正则表达式寻找配对 "
   ]
  },
  {
   "cell_type": "code",
   "execution_count": 50,
   "metadata": {},
   "outputs": [
    {
     "name": "stdout",
     "output_type": "stream",
     "text": [
      "<re.Match object; span=(12, 15), match='cat'>\n",
      "None\n"
     ]
    }
   ],
   "source": [
    "pattern1='cat'\n",
    "pattern2='bird'\n",
    "string='dog runs to cat'\n",
    "print(re.search(pattern1,string))\n",
    "print(re.search(pattern2,string))"
   ]
  },
  {
   "cell_type": "markdown",
   "metadata": {},
   "source": [
    "### 匹配多种可能，使用【】"
   ]
  },
  {
   "cell_type": "code",
   "execution_count": 51,
   "metadata": {},
   "outputs": [
    {
     "name": "stdout",
     "output_type": "stream",
     "text": [
      "<re.Match object; span=(4, 7), match='run'>\n"
     ]
    }
   ],
   "source": [
    "#multiple patterns('run' or 'ran')\n",
    "ptn=r\"r[au]n\"#用引号引起来是字符串，但是前面加一个r，表示他不是一个字符串了，而是一个正则表达式的形式\n",
    "print(re.search(ptn,'dog runs to car'))"
   ]
  },
  {
   "cell_type": "markdown",
   "metadata": {},
   "source": [
    "### 匹配多种可能"
   ]
  },
  {
   "cell_type": "code",
   "execution_count": 52,
   "metadata": {},
   "outputs": [
    {
     "name": "stdout",
     "output_type": "stream",
     "text": [
      "None\n",
      "<re.Match object; span=(4, 7), match='run'>\n",
      "<re.Match object; span=(4, 7), match='r2n'>\n",
      "<re.Match object; span=(4, 7), match='run'>\n"
     ]
    }
   ],
   "source": [
    "print(re.search(r'r[A-Z]n',\"dog runs to cats\"))\n",
    "print(re.search(r\"r[a-z]n\",\"dog runs to cats\"))\n",
    "print(re.search(r\"r[0-9]n\",\"dog r2ns to cats\"))\n",
    "print(re.search(r\"r[0-9a-z]n\",\"dog runs to cats\"))\n"
   ]
  },
  {
   "cell_type": "markdown",
   "metadata": {},
   "source": [
    "### 特殊种类的匹配"
   ]
  },
  {
   "cell_type": "code",
   "execution_count": 53,
   "metadata": {},
   "outputs": [
    {
     "name": "stdout",
     "output_type": "stream",
     "text": [
      "<re.Match object; span=(4, 7), match='r4n'>\n",
      "<re.Match object; span=(0, 3), match='run'>\n"
     ]
    }
   ],
   "source": [
    "#\\d:decimal digital任何数字即可\n",
    "print(re.search(r'r\\dn',\"run r4n\"))\n",
    "#\\D:any non-decimal digital 找任何不是数字的\n",
    "print(re.search(r'r\\Dn','run r4n'))"
   ]
  },
  {
   "cell_type": "markdown",
   "metadata": {},
   "source": [
    "### 空白"
   ]
  },
  {
   "cell_type": "code",
   "execution_count": 55,
   "metadata": {},
   "outputs": [
    {
     "name": "stdout",
     "output_type": "stream",
     "text": [
      "<re.Match object; span=(4, 7), match='r\\nn'>\n",
      "<re.Match object; span=(0, 3), match='r7n'>\n"
     ]
    }
   ],
   "source": [
    "#\\s:any white space{\\t\\n\\r\\f\\v}任何键盘上的空白键\n",
    "print(re.search(r'r\\sn','run,r\\nn'))\n",
    "#\\S:any no-white space{\n",
    "print(re.search(r'r\\Sn','r7n,r\\nn'))\n"
   ]
  },
  {
   "cell_type": "markdown",
   "metadata": {},
   "source": [
    "### 所有的字母数字和下划线"
   ]
  },
  {
   "cell_type": "code",
   "execution_count": 56,
   "metadata": {},
   "outputs": [
    {
     "name": "stdout",
     "output_type": "stream",
     "text": [
      "<re.Match object; span=(0, 3), match='run'>\n",
      "<re.Match object; span=(4, 7), match='r\\nn'>\n"
     ]
    }
   ],
   "source": [
    "#\\w:[a-zA-Z0-9_]\n",
    "print(re.search(r'r\\wn','run,r4n'))\n",
    "#\\W:opposite to \\w\n",
    "print(re.search(r'r\\Wn','r7n,r4n'))"
   ]
  },
  {
   "cell_type": "markdown",
   "metadata": {},
   "source": [
    "### 空白字符"
   ]
  },
  {
   "cell_type": "code",
   "execution_count": 57,
   "metadata": {},
   "outputs": [
    {
     "name": "stdout",
     "output_type": "stream",
     "text": [
      "None\n",
      "<re.Match object; span=(4, 10), match=' runs '>\n"
     ]
    }
   ],
   "source": [
    "#\\b:empty string (only at the start or end of the world)空白格式贴在文字前后的\n",
    "print(re.search(r'\\bruns\\b','dog runs tocat'))\n",
    "#\\B:empty string (but not at the start or end of a world)空白格不管离文字有多远都可以找到\n",
    "print(re.search(r'\\B runs \\B','dog  runs  to cat'))"
   ]
  },
  {
   "cell_type": "markdown",
   "metadata": {},
   "source": [
    "### 特殊字符 任意字符"
   ]
  },
  {
   "cell_type": "code",
   "execution_count": 58,
   "metadata": {},
   "outputs": [
    {
     "name": "stdout",
     "output_type": "stream",
     "text": [
      "<re.Match object; span=(0, 5), match='runs\\\\'>\n",
      "<re.Match object; span=(0, 3), match='r[n'>\n"
     ]
    }
   ],
   "source": [
    "#\\\\:找到\\与之匹配\n",
    "print(re.search(r\"runs\\\\\",'runs\\ to me'))\n",
    "#.:match anything(except \\n)\n",
    "print(re.search(r\"r.n\",'r[ns to me to me'))\n"
   ]
  },
  {
   "cell_type": "markdown",
   "metadata": {},
   "source": [
    "### 句首句尾"
   ]
  },
  {
   "cell_type": "code",
   "execution_count": 59,
   "metadata": {},
   "outputs": [
    {
     "name": "stdout",
     "output_type": "stream",
     "text": [
      "<re.Match object; span=(0, 3), match='dog'>\n",
      "<re.Match object; span=(12, 15), match='cat'>\n"
     ]
    }
   ],
   "source": [
    "#^:出现在句首可以匹配\n",
    "print(re.search(r\"^dog\",'dog runs to cat'))\n",
    "#$:出现在句尾可以匹配上\n",
    "print(re.search(r\"cat$\",'dog runs to cat'))"
   ]
  },
  {
   "cell_type": "markdown",
   "metadata": {},
   "source": [
    "### 是否"
   ]
  },
  {
   "cell_type": "code",
   "execution_count": 61,
   "metadata": {},
   "outputs": [
    {
     "name": "stdout",
     "output_type": "stream",
     "text": [
      "<re.Match object; span=(0, 6), match='Monday'>\n",
      "<re.Match object; span=(0, 3), match='Mon'>\n"
     ]
    }
   ],
   "source": [
    "#（）？无论括号中的内容是否出现，都会匹配\n",
    "print(re.search(r\"Mon(day)?\",\"Monday tues\"))\n",
    "print(re.search(r\"Mon(day)?\",\"Mon Tues\"))"
   ]
  },
  {
   "cell_type": "markdown",
   "metadata": {},
   "source": [
    "### 多行匹配"
   ]
  },
  {
   "cell_type": "code",
   "execution_count": 62,
   "metadata": {},
   "outputs": [
    {
     "name": "stdout",
     "output_type": "stream",
     "text": [
      "None\n",
      "<re.Match object; span=(18, 19), match='I'>\n"
     ]
    }
   ],
   "source": [
    "string='''\n",
    "dog runs to cat.\n",
    "I run to dog.\n",
    "'''\n",
    "print(re.search(r\"^I\",string))#这样写是匹配不到的\n",
    "print(re.search(r\"^I\",string,flags=re.M))#加上flag表示要多行匹配"
   ]
  },
  {
   "cell_type": "markdown",
   "metadata": {},
   "source": [
    "### 0次或者多次"
   ]
  },
  {
   "cell_type": "code",
   "execution_count": 63,
   "metadata": {},
   "outputs": [
    {
     "name": "stdout",
     "output_type": "stream",
     "text": [
      "<re.Match object; span=(0, 1), match='a'>\n",
      "<re.Match object; span=(0, 6), match='abbbbb'>\n"
     ]
    }
   ],
   "source": [
    "#*：出现0次或者多次\n",
    "print(re.search(r\"ab*\",\"a\"))\n",
    "print(re.search(r\"ab*\",\"abbbbb\"))\n"
   ]
  },
  {
   "cell_type": "markdown",
   "metadata": {},
   "source": [
    "### 1次或者多次"
   ]
  },
  {
   "cell_type": "code",
   "execution_count": 65,
   "metadata": {},
   "outputs": [
    {
     "name": "stdout",
     "output_type": "stream",
     "text": [
      "None\n",
      "<re.Match object; span=(0, 6), match='abbbbb'>\n"
     ]
    }
   ],
   "source": [
    "#+：+号前的那个东西出现1次或者多次都可以匹配上\n",
    "print(re.search(r\"ab+\",\"a\"))\n",
    "print(re.search(r\"ab+\",\"abbbbb\"))"
   ]
  },
  {
   "cell_type": "markdown",
   "metadata": {},
   "source": [
    "### 可选次数"
   ]
  },
  {
   "cell_type": "code",
   "execution_count": 66,
   "metadata": {},
   "outputs": [
    {
     "name": "stdout",
     "output_type": "stream",
     "text": [
      "None\n",
      "<re.Match object; span=(0, 6), match='abbbbb'>\n"
     ]
    }
   ],
   "source": [
    "#{n，m}：大括号前的东西occur n to m times\n",
    "print(re.search(r\"ab{2,10}\",\"a\"))\n",
    "print(re.search(r\"ab{2,10}\",\"abbbbb\"))"
   ]
  },
  {
   "cell_type": "markdown",
   "metadata": {},
   "source": [
    "### group组"
   ]
  },
  {
   "cell_type": "code",
   "execution_count": 68,
   "metadata": {},
   "outputs": [
    {
     "name": "stdout",
     "output_type": "stream",
     "text": [
      "0212345,Date:Feb/12/2020\n",
      "0212345\n",
      "Feb/12/2020\n"
     ]
    }
   ],
   "source": [
    "match = re.search(r'(\\d+),Date:(.+)',\"ID:0212345,Date:Feb/12/2020\")\n",
    "#第一个（）里面是匹配所有数字，出现一次或者多次\n",
    "#第二个（）里面是匹配date后面的所有东西\n",
    "#group（1）就是找第一个括号里的内容\n",
    "#group（2）就是找第2个括号里的内容\n",
    "print(match.group())#没有指定就是返回找到的所有东西\n",
    "print(match.group(1))\n",
    "print(match.group(2))\n",
    "                  "
   ]
  },
  {
   "cell_type": "code",
   "execution_count": 72,
   "metadata": {},
   "outputs": [
    {
     "name": "stdout",
     "output_type": "stream",
     "text": [
      "0212345\n",
      "Feb/12/2020\n"
     ]
    }
   ],
   "source": [
    "match = re.search(r'(?P<id>\\d+),Date:(?P<date>.+)',\"ID:0212345,Date:Feb/12/2020\")\n",
    "#?P<这个里面是group的组名>\n",
    "print(match.group('id'))\n",
    "print(match.group('date'))"
   ]
  },
  {
   "cell_type": "markdown",
   "metadata": {},
   "source": [
    "### 寻找所有的匹配"
   ]
  },
  {
   "cell_type": "code",
   "execution_count": 76,
   "metadata": {},
   "outputs": [
    {
     "name": "stdout",
     "output_type": "stream",
     "text": [
      "['run', 'ran']\n"
     ]
    }
   ],
   "source": [
    "print(re.findall(r\"r[ua]n\",\"run ren ran\"))"
   ]
  },
  {
   "cell_type": "code",
   "execution_count": 79,
   "metadata": {},
   "outputs": [
    {
     "name": "stdout",
     "output_type": "stream",
     "text": [
      "['run', 'ran']\n",
      "['u', 'a']\n"
     ]
    }
   ],
   "source": [
    "#\\:or\n",
    "print(re.findall(r\"ran|run\",\"run ren ran\"))\n",
    "print(re.findall(r\"r(a|u)n\",\"run ren ran\"))\n",
    "print(re.findall(r\"(ran|run)\",\"run ren ran\"))"
   ]
  },
  {
   "cell_type": "markdown",
   "metadata": {},
   "source": [
    "### 替换"
   ]
  },
  {
   "cell_type": "code",
   "execution_count": 78,
   "metadata": {},
   "outputs": [
    {
     "name": "stdout",
     "output_type": "stream",
     "text": [
      "dog catches to cat\n"
     ]
    }
   ],
   "source": [
    "#re.sub() replace把匹配到的东西替换成catches\n",
    "print(re.sub(r\"r[au]ns\",\"catches\",\"dog runs to cat\"))"
   ]
  },
  {
   "cell_type": "markdown",
   "metadata": {},
   "source": [
    "### 分裂"
   ]
  },
  {
   "cell_type": "code",
   "execution_count": 82,
   "metadata": {},
   "outputs": [
    {
     "name": "stdout",
     "output_type": "stream",
     "text": [
      "['a', 'b12', 'c', 'd', 'ed']\n"
     ]
    }
   ],
   "source": [
    "#re.split()碰到任何一个[]里的东西就把他们分开\n",
    "print(re.split(r\"[,;\\.]\",\"a;b12,c.d;ed\"))\n",
    "# 因为只有一个.的时候是表示任何东西的意思，所以我们需要在前面加转义字符\\"
   ]
  },
  {
   "cell_type": "markdown",
   "metadata": {},
   "source": [
    "### compile "
   ]
  },
  {
   "cell_type": "code",
   "execution_count": 83,
   "metadata": {},
   "outputs": [
    {
     "name": "stdout",
     "output_type": "stream",
     "text": [
      "<re.Match object; span=(4, 7), match='ran'>\n"
     ]
    }
   ],
   "source": [
    "compiled_re = re.compile(r\"r[ua]n\")#先把要匹配的内容compile出来，后面就可以直接用了                                                                                                                            \n",
    "print(compiled_re.search('dog ran to cat'))"
   ]
  },
  {
   "cell_type": "code",
   "execution_count": null,
   "metadata": {},
   "outputs": [],
   "source": []
  }
 ],
 "metadata": {
  "kernelspec": {
   "display_name": "Python 3",
   "language": "python",
   "name": "python3"
  },
  "language_info": {
   "codemirror_mode": {
    "name": "ipython",
    "version": 3
   },
   "file_extension": ".py",
   "mimetype": "text/x-python",
   "name": "python",
   "nbconvert_exporter": "python",
   "pygments_lexer": "ipython3",
   "version": "3.7.3"
  }
 },
 "nbformat": 4,
 "nbformat_minor": 2
}
